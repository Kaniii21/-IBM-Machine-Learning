{
 "cells": [
  {
   "cell_type": "markdown",
   "metadata": {},
   "source": [
    "# Report: Customer Segmentation Analysis of Nike"
   ]
  },
  {
   "cell_type": "markdown",
   "metadata": {},
   "source": [
    "## Main Objective\n",
    "Apply unsupervised learning, that is, **clustering**, to a Nike product dataset. This analysis would enable Nike and its stakeholders to understand products by categories in terms of price, stock availability, and average rating of the product. This type of analysis would help Nike in decisions and inventory optimization."
   ]
  },
  {
   "cell_type": "markdown",
   "metadata": {},
   "source": [
    "## Model Focus\n",
    "- **Clustering Techniques** such as K-means, DBSCAN, and Agglomerative Clustering were employed to identify customer segments."
   ]
  },
  {
   "cell_type": "markdown",
   "metadata": {},
   "source": [
    "# Dataset Overview\n",
    "The dataset contains detailed information about Nike’s customers, including demographic data, purchase frequency, total purchase value, and product categories. This data will be used to segment customers based on their behavior.\n",
    "\n",
    "### **Key Attributes:**\n",
    "- `name`: Product name.\n",
    "- `price`: Costs of the respective product.\n",
    "- `avg_rating`: Ratings given by customers.\n",
    "- `review_count`: Number of reviews done by customers.\n",
    "- `availability`: Shows whether the product is in stock.\n",
    "- `color`: Available colors.\n",
    "Available key features for clustering were: `price`, `avg_rating`, `review_count`, `color`, and `availability`."
   ]
  },
  {
   "cell_type": "code",
   "execution_count": 3,
   "metadata": {},
   "outputs": [
    {
     "name": "stdout",
     "output_type": "stream",
     "text": [
      "Requirement already satisfied: pandas in c:\\python312\\lib\\site-packages (2.2.3)Note: you may need to restart the kernel to use updated packages.\n",
      "\n",
      "Requirement already satisfied: numpy>=1.26.0 in c:\\python312\\lib\\site-packages (from pandas) (2.1.3)\n",
      "Requirement already satisfied: python-dateutil>=2.8.2 in c:\\users\\kanika barik\\appdata\\roaming\\python\\python312\\site-packages (from pandas) (2.9.0.post0)\n",
      "Requirement already satisfied: pytz>=2020.1 in c:\\python312\\lib\\site-packages (from pandas) (2024.2)\n",
      "Requirement already satisfied: tzdata>=2022.7 in c:\\python312\\lib\\site-packages (from pandas) (2024.2)\n",
      "Requirement already satisfied: six>=1.5 in c:\\python312\\lib\\site-packages (from python-dateutil>=2.8.2->pandas) (1.16.0)\n"
     ]
    },
    {
     "name": "stderr",
     "output_type": "stream",
     "text": [
      "\n",
      "[notice] A new release of pip is available: 24.0 -> 24.3.1\n",
      "[notice] To update, run: python.exe -m pip install --upgrade pip\n"
     ]
    }
   ],
   "source": [
    "%pip install pandas"
   ]
  },
  {
   "cell_type": "code",
   "execution_count": 5,
   "metadata": {},
   "outputs": [
    {
     "name": "stdout",
     "output_type": "stream",
     "text": [
      "<class 'pandas.core.frame.DataFrame'>\n",
      "RangeIndex: 112 entries, 0 to 111\n",
      "Data columns (total 17 columns):\n",
      " #   Column           Non-Null Count  Dtype  \n",
      "---  ------           --------------  -----  \n",
      " 0   url              112 non-null    object \n",
      " 1   name             112 non-null    object \n",
      " 2   sub_title        112 non-null    object \n",
      " 3   brand            112 non-null    object \n",
      " 4   model            112 non-null    int64  \n",
      " 5   color            110 non-null    object \n",
      " 6   price            112 non-null    float64\n",
      " 7   currency         112 non-null    object \n",
      " 8   availability     108 non-null    object \n",
      " 9   description      112 non-null    object \n",
      " 10  raw_description  112 non-null    object \n",
      " 11  avg_rating       23 non-null     float64\n",
      " 12  review_count     23 non-null     float64\n",
      " 13  images           108 non-null    object \n",
      " 14  available_sizes  56 non-null     object \n",
      " 15  uniq_id          112 non-null    object \n",
      " 16  scraped_at       112 non-null    object \n",
      "dtypes: float64(3), int64(1), object(13)\n",
      "memory usage: 15.0+ KB\n",
      "None\n",
      "              model       price  avg_rating  review_count\n",
      "count  1.120000e+02  112.000000   23.000000     23.000000\n",
      "mean   9.298439e+07   61.506250    4.773913     31.391304\n",
      "std    2.698557e+08   39.887738    0.336043     72.942530\n",
      "min    1.013351e+07    9.970000    3.800000      1.000000\n",
      "25%    1.329489e+07   31.720000    4.750000      1.000000\n",
      "50%    1.389103e+07   45.000000    4.800000      5.000000\n",
      "75%    1.406539e+07   85.242500    5.000000     13.000000\n",
      "max    1.007648e+09  175.000000    5.000000    316.000000\n",
      "                                                 url  \\\n",
      "0  https://www.nike.com/t/dri-fit-team-minnesota-...   \n",
      "1  https://www.nike.com/t/club-américa-womens-dri...   \n",
      "2  https://www.nike.com/t/sportswear-swoosh-mens-...   \n",
      "3  https://www.nike.com/t/dri-fit-one-luxe-big-ki...   \n",
      "4  https://www.nike.com/t/paris-saint-germain-rep...   \n",
      "\n",
      "                                      name  \\\n",
      "0  Nike Dri-FIT Team (MLB Minnesota Twins)   \n",
      "1                             Club América   \n",
      "2                   Nike Sportswear Swoosh   \n",
      "3                    Nike Dri-FIT One Luxe   \n",
      "4    Paris Saint-Germain Repel Academy AWF   \n",
      "\n",
      "                                           sub_title brand     model  \\\n",
      "0                          Men's Long-Sleeve T-Shirt  Nike  14226571   \n",
      "1           Women's Nike Dri-FIT Soccer Jersey Dress  Nike  13814665   \n",
      "2                                     Men's Overalls  Nike  13015648   \n",
      "3  Big Kids' (Girls') Printed Tights (Extended Size)  Nike  13809796   \n",
      "4                            Big Kids' Soccer Jacket  Nike  13327415   \n",
      "\n",
      "                                 color   price currency availability  \\\n",
      "0                                 Navy   40.00      USD      InStock   \n",
      "1                          Black/Black   90.00      USD      InStock   \n",
      "2                          Black/White  140.00      USD   OutOfStock   \n",
      "3                      Black/Rush Pink   22.97      USD   OutOfStock   \n",
      "4  Dark Grey/Black/Siren Red/Siren Red   70.00      USD      InStock   \n",
      "\n",
      "                                         description  \\\n",
      "0  SWEAT-WICKING COMFORT.The Nike Dri-FIT Team (M...   \n",
      "1  Inspired by traditional soccer jerseys, the Cl...   \n",
      "2  WORKING HARD TO KEEP YOU COMFORTABLE.The Nike ...   \n",
      "3  ELEVATED COMFORT GOES FULL BLOOM.The Nike Dri-...   \n",
      "4  WATER-REPELLENT COVERAGE GETS PSG DETAILS.The ...   \n",
      "\n",
      "                                     raw_description  avg_rating  \\\n",
      "0  <div class=\"pi-pdpmainbody\"><p><b class=\"headl...         NaN   \n",
      "1  <div class=\"pi-pdpmainbody\"><br/><p>Inspired b...         5.0   \n",
      "2  <div class=\"pi-pdpmainbody\"><p><b class=\"headl...         4.9   \n",
      "3  <div class=\"pi-pdpmainbody\"><p><b class=\"headl...         NaN   \n",
      "4  <div class=\"pi-pdpmainbody\"><p><b class=\"headl...         NaN   \n",
      "\n",
      "   review_count                                             images  \\\n",
      "0           NaN  https://static.nike.com/a/images/t_PDP_1280_v1...   \n",
      "1           1.0  https://static.nike.com/a/images/t_PDP_1280_v1...   \n",
      "2          11.0  https://static.nike.com/a/images/t_PDP_1280_v1...   \n",
      "3           NaN  https://static.nike.com/a/images/t_PDP_1280_v1...   \n",
      "4           NaN  https://static.nike.com/a/images/t_PDP_1280_v1...   \n",
      "\n",
      "        available_sizes                               uniq_id  \\\n",
      "0  S | M | L | XL | 2XL  c3229e54-aa58-5fdd-9f71-fbe66366b2b2   \n",
      "1             L (12–14)  f8ebb2ed-17ae-5719-b750-5ea3ec69b75c   \n",
      "2                   NaN  88120081-e6cb-5399-b9dc-a2d3d5dd5206   \n",
      "3                   NaN  98348cc5-1520-5b6e-a5f6-c42547b6a092   \n",
      "4   XS | S | M | L | XL  f15981a5-d8c9-53fa-880d-80606be188fe   \n",
      "\n",
      "            scraped_at  \n",
      "0  20/09/2022 23:32:28  \n",
      "1  20/09/2022 23:32:40  \n",
      "2  20/09/2022 23:33:16  \n",
      "3  20/09/2022 23:33:17  \n",
      "4  20/09/2022 23:33:22  \n"
     ]
    }
   ],
   "source": [
    "import pandas as pd\n",
    "# Load the dataset\n",
    "nike_data = \"D:\\\\projects\\\\-IBM-Machine-Learning\\\\nike_data_2022_09.csv\"\n",
    "df = pd.read_csv(nike_data)\n",
    "# Display basic information about the dataset \n",
    "print(df.info())\n",
    "print(df.describe())\n",
    "print(df.head())"
   ]
  },
  {
   "cell_type": "markdown",
   "metadata": {},
   "source": [
    "## Data Exploration and Cleaning\n",
    "\n",
    "Exploratory and preliminary cleaning of the data was undertaken to prepare the data set for analysis:\n",
    "- **Missing Values**: Missing values in `avg_rating` and `review_count` were filled with zeros, assuming no reviews or ratings for these products. Missing values in `availability` were filled with \"Unknown.\"\n",
    "- **Categorical Encoding**: Categorical columns like `availability` and `color` were encoded into numerical values.\n",
    "- **Scaling**: Numerical features such as `price`, `avg_rating`, and `review_count` were normalized using standard scaling to bring them onto the same scale for clustering algorithms.\n",
    "  "
   ]
  },
  {
   "cell_type": "code",
   "execution_count": 10,
   "metadata": {},
   "outputs": [
    {
     "name": "stdout",
     "output_type": "stream",
     "text": [
      "name               0\n",
      "brand              0\n",
      "model              0\n",
      "color              0\n",
      "price              0\n",
      "currency           0\n",
      "availability       0\n",
      "avg_rating         0\n",
      "review_count       0\n",
      "available_sizes    0\n",
      "dtype: int64\n",
      "                                      name brand     model  color     price  \\\n",
      "0  Nike Dri-FIT Team (MLB Minnesota Twins)  Nike  14226571     26 -0.809161   \n",
      "1                             Club América  Nike  13814665      3  0.438128   \n",
      "4    Paris Saint-Germain Repel Academy AWF  Nike  13327415     16 -0.060788   \n",
      "5        NFL Miami Dolphins (Mike Gesicki)  Nike  14057953     41  1.435959   \n",
      "7                    Nike College (Oregon)  Nike  13817332     41 -1.333771   \n",
      "\n",
      "  currency  availability  avg_rating  review_count       available_sizes  \n",
      "0      USD             0   -0.436256     -0.219495  S | M | L | XL | 2XL  \n",
      "1      USD             0    2.437901     -0.159535             L (12–14)  \n",
      "4      USD             0   -0.436256     -0.219495   XS | S | M | L | XL  \n",
      "5      USD             0   -0.436256     -0.219495  S | M | L | XL | 2XL  \n",
      "7      USD             0   -0.436256     -0.219495  S | M | L | XL | 2XL  \n"
     ]
    },
    {
     "name": "stderr",
     "output_type": "stream",
     "text": [
      "C:\\Users\\Kanika Barik\\AppData\\Local\\Temp\\ipykernel_21408\\1207636305.py:8: FutureWarning: A value is trying to be set on a copy of a DataFrame or Series through chained assignment using an inplace method.\n",
      "The behavior will change in pandas 3.0. This inplace method will never work because the intermediate object on which we are setting values always behaves as a copy.\n",
      "\n",
      "For example, when doing 'df[col].method(value, inplace=True)', try using 'df.method({col: value}, inplace=True)' or df[col] = df[col].method(value) instead, to perform the operation inplace on the original object.\n",
      "\n",
      "\n",
      "  cleaned_data['avg_rating'].fillna(0, inplace=True)\n",
      "C:\\Users\\Kanika Barik\\AppData\\Local\\Temp\\ipykernel_21408\\1207636305.py:9: FutureWarning: A value is trying to be set on a copy of a DataFrame or Series through chained assignment using an inplace method.\n",
      "The behavior will change in pandas 3.0. This inplace method will never work because the intermediate object on which we are setting values always behaves as a copy.\n",
      "\n",
      "For example, when doing 'df[col].method(value, inplace=True)', try using 'df.method({col: value}, inplace=True)' or df[col] = df[col].method(value) instead, to perform the operation inplace on the original object.\n",
      "\n",
      "\n",
      "  cleaned_data['review_count'].fillna(0, inplace=True)\n",
      "C:\\Users\\Kanika Barik\\AppData\\Local\\Temp\\ipykernel_21408\\1207636305.py:12: FutureWarning: A value is trying to be set on a copy of a DataFrame or Series through chained assignment using an inplace method.\n",
      "The behavior will change in pandas 3.0. This inplace method will never work because the intermediate object on which we are setting values always behaves as a copy.\n",
      "\n",
      "For example, when doing 'df[col].method(value, inplace=True)', try using 'df.method({col: value}, inplace=True)' or df[col] = df[col].method(value) instead, to perform the operation inplace on the original object.\n",
      "\n",
      "\n",
      "  cleaned_data['availability'].fillna('Unknown', inplace=True)\n"
     ]
    }
   ],
   "source": [
    "# Data Cleaning and Preprocessing\n",
    "from sklearn.preprocessing import StandardScaler\n",
    "# Drop columns not useful for clustering (URLs, descriptions, images, etc.)\n",
    "cleaned_data = df.drop(columns=['url', 'description', 'raw_description', 'images', 'sub_title', 'uniq_id', 'scraped_at'])\n",
    "\n",
    "# Handle missing values\n",
    "# Fill missing 'avg_rating' and 'review_count' with 0, assuming no reviews or ratings\n",
    "cleaned_data['avg_rating'].fillna(0, inplace=True)\n",
    "cleaned_data['review_count'].fillna(0, inplace=True)\n",
    "\n",
    "# Fill missing 'availability' with 'Unknown'\n",
    "cleaned_data['availability'].fillna('Unknown', inplace=True)\n",
    "\n",
    "# Drop rows with missing 'color' and 'available_sizes' for simplicity in this analysis\n",
    "cleaned_data.dropna(subset=['color', 'available_sizes'], inplace=True)\n",
    "\n",
    "# Encode categorical columns 'availability' and 'color'\n",
    "cleaned_data['availability'] = cleaned_data['availability'].astype('category').cat.codes\n",
    "cleaned_data['color'] = cleaned_data['color'].astype('category').cat.codes\n",
    "\n",
    "# Scale numerical columns like 'price', 'avg_rating', and 'review_count'\n",
    "scaler = StandardScaler()\n",
    "scaled_columns = ['price', 'avg_rating', 'review_count']\n",
    "cleaned_data[scaled_columns] = scaler.fit_transform(cleaned_data[scaled_columns])\n",
    "\n",
    "# Display the sanitized data\n",
    "print(cleaned_data.isnull().sum())\n",
    "print(cleaned_data.head())"
   ]
  },
  {
   "cell_type": "markdown",
   "metadata": {},
   "source": [
    "After data cleaning, the key attributes were preprocessed for unsupervised learning."
   ]
  },
  {
   "cell_type": "markdown",
   "metadata": {},
   "source": [
    "# Training Multiple Clustering Models\n",
    "Now that the data is preprocessed, I will train three different clustering models:\n",
    "\n",
    "- *K-Means Clustering*\n",
    "- *Agglomerative Clustering*\n",
    "- *DBSCAN (Density-Based Spatial Clustering)*"
   ]
  },
  {
   "cell_type": "markdown",
   "metadata": {},
   "source": [
    "1. **K-Means Clustering**:\n",
    "- K-Means is a centroid-based clustering algorithm. I used 3 clusters based on the size of the dataset and the number of attributes.\n",
    "- The clusters were formed on the basis of similar values in `price`, `avg_rating`, `review_count`, `availability`, and `color`.\n",
    "\n",
    "2. **Agglomerative Clustering**:\n",
    "- It is a hierarchical clustering algorithm in which each product was assigned to its own cluster in the beginning and clusters were merged iteratively based on proximity.\n",
    "Just like the K-Means method also it was targeting 3 distinct clusters.\n",
    "3. **DBSCAN (Density-Based Clustering)**:\n",
    "It groups products by density: it recognizes areas of high density as clusters and marks sparse areas as noise or outliers.\n",
    "- For K-Means or Agglomerative Clustering, the number of clusters needs to be pre-specified"
   ]
  },
  {
   "cell_type": "code",
   "execution_count": 11,
   "metadata": {},
   "outputs": [
    {
     "data": {
      "text/plain": [
       "(np.float64(0.5776236995471457), np.float64(0.5682635453508619), -1)"
      ]
     },
     "execution_count": 11,
     "metadata": {},
     "output_type": "execute_result"
    }
   ],
   "source": [
    "from sklearn.cluster import KMeans, AgglomerativeClustering, DBSCAN\n",
    "from sklearn.metrics import silhouette_score\n",
    "\n",
    "# Selecting features for clustering (excluding 'name', 'brand', 'model', 'currency', and 'available_sizes')\n",
    "X = cleaned_data.drop(columns=['name', 'brand', 'model', 'currency', 'available_sizes'])\n",
    "\n",
    "# 1. K-Means Clustering\n",
    "kmeans = KMeans(n_clusters=3, random_state=42)\n",
    "kmeans_labels = kmeans.fit_predict(X)\n",
    "\n",
    "# 2. Agglomerative Clustering\n",
    "agglo = AgglomerativeClustering(n_clusters=3)\n",
    "agglo_labels = agglo.fit_predict(X)\n",
    "\n",
    "# 3. DBSCAN Clustering\n",
    "dbscan = DBSCAN(eps=0.5, min_samples=5)\n",
    "dbscan_labels = dbscan.fit_predict(X)\n",
    "\n",
    "# Silhouette scores to evaluate the clustering quality (higher is better)\n",
    "kmeans_silhouette = silhouette_score(X, kmeans_labels)\n",
    "agglo_silhouette = silhouette_score(X, agglo_labels)\n",
    "dbscan_silhouette = silhouette_score(X, dbscan_labels) if len(set(dbscan_labels)) > 1 else -1  # Handle the case when DBSCAN only finds one cluster\n",
    "\n",
    "(kmeans_silhouette, agglo_silhouette, dbscan_silhouette)"
   ]
  },
  {
   "cell_type": "markdown",
   "metadata": {},
   "source": [
    "## **Model Evaluation**\n",
    "The **Silhouette Score** was calculated to evaluate the performance of each clustering model. The Silhouette Score computes how similar each product is to its own cluster compared to others. The higher, the better defined the clusters.\n",
    "\n",
    "- K-Means: It should be a good baseline as its cluster centroids are optimized and lead to a high Silhouette Score.\n",
    "- Agglomerative Clustering: The performance is quite comparable to K-Means because it is also distance-based clustering.\n",
    "- DBSCAN: This will detect outliers really well but this algorithm can fail pretty miserably if the product data does not have strong density variations."
   ]
  },
  {
   "cell_type": "markdown",
   "metadata": {},
   "source": [
    "## Final Model Recommendation\n",
    "Based on the clusterings, the model that can best fit to give distinctly formed product groups should be chosen. Probably, K-Means or Agglomerative Clustering, which can give clear-cut separability of the categories of products. If there is a worry that outliers or niche products exist, then DBSCAN could be useful for picking up such cases.\n",
    "- **Product Categories**: The chosen model probably categorized the products by price and availability. Sub-clustering could imply different pricing ranges like low, medium, high.\n",
    "- **Availability Insights**: Clustering by availability may present to the stakeholders which lines are more often out of stock.\n",
    "- **Customer Ratings**: Clustering with average rating may indicate hot-selling items and those requiring improvement."
   ]
  },
  {
   "cell_type": "markdown",
   "metadata": {},
   "source": [
    "## Ideas for Next Steps\n",
    "**Increase Product Features**: Increasing the product features, for instance, adding some customer demographics or region availability, may improve the quality of clustering and increase actionable insights further.\n",
    "Model Tuning: Fine-tuning the K-Means number of clusters or distance metrics in Agglomerative Clustering improve the outcome .\n",
    "Outlier Detection: For niche products or outliers, run DBSCAN with different parameters to get unique clusters and sparse categories."
   ]
  }
 ],
 "metadata": {
  "kernelspec": {
   "display_name": "Python 3",
   "language": "python",
   "name": "python3"
  },
  "language_info": {
   "codemirror_mode": {
    "name": "ipython",
    "version": 3
   },
   "file_extension": ".py",
   "mimetype": "text/x-python",
   "name": "python",
   "nbconvert_exporter": "python",
   "pygments_lexer": "ipython3",
   "version": "3.12.4"
  }
 },
 "nbformat": 4,
 "nbformat_minor": 2
}
