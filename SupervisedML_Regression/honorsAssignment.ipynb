{
 "cells": [
  {
   "cell_type": "markdown",
   "metadata": {},
   "source": [
    "# Predictive Analysis of Nike Product Sales Using Linear Regression Models"
   ]
  },
  {
   "cell_type": "markdown",
   "metadata": {},
   "source": [
    "## Main Objective of the Analysis\n",
    "The main objective of this analysis is prediction, specifically to forecast sales based on various product attributes. This will help understand the factors driving sales performance and enable better inventory and marketing strategies."
   ]
  },
  {
   "cell_type": "markdown",
   "metadata": {},
   "source": [
    "# Dataset Overview\n",
    "The dataset contains detailed information about Nike’s customers, including demographic data, purchase frequency, total purchase value, and product categories. This data will be used to segment customers based on their behavior.\n",
    "\n",
    "### **Key Attributes:**\n",
    "- `name`: Product name.\n",
    "- `price`: Costs of the respective product.\n",
    "- `avg_rating`: Ratings given by customers.\n",
    "- `review_count`: Number of reviews done by customers.\n",
    "- `availability`: Shows whether the product is in stock.\n",
    "- `color`: Available colors.\n",
    "Available key features for clustering were: `price`, `avg_rating`, `review_count`, `color`, and `availability`."
   ]
  },
  {
   "cell_type": "code",
   "execution_count": null,
   "metadata": {},
   "outputs": [],
   "source": [
    "%pip install pandas"
   ]
  },
  {
   "cell_type": "code",
   "execution_count": 2,
   "metadata": {},
   "outputs": [
    {
     "name": "stdout",
     "output_type": "stream",
     "text": [
      "<class 'pandas.core.frame.DataFrame'>\n",
      "RangeIndex: 112 entries, 0 to 111\n",
      "Data columns (total 17 columns):\n",
      " #   Column           Non-Null Count  Dtype  \n",
      "---  ------           --------------  -----  \n",
      " 0   url              112 non-null    object \n",
      " 1   name             112 non-null    object \n",
      " 2   sub_title        112 non-null    object \n",
      " 3   brand            112 non-null    object \n",
      " 4   model            112 non-null    int64  \n",
      " 5   color            110 non-null    object \n",
      " 6   price            112 non-null    float64\n",
      " 7   currency         112 non-null    object \n",
      " 8   availability     108 non-null    object \n",
      " 9   description      112 non-null    object \n",
      " 10  raw_description  112 non-null    object \n",
      " 11  avg_rating       23 non-null     float64\n",
      " 12  review_count     23 non-null     float64\n",
      " 13  images           108 non-null    object \n",
      " 14  available_sizes  56 non-null     object \n",
      " 15  uniq_id          112 non-null    object \n",
      " 16  scraped_at       112 non-null    object \n",
      "dtypes: float64(3), int64(1), object(13)\n",
      "memory usage: 15.0+ KB\n",
      "None\n",
      "              model       price  avg_rating  review_count\n",
      "count  1.120000e+02  112.000000   23.000000     23.000000\n",
      "mean   9.298439e+07   61.506250    4.773913     31.391304\n",
      "std    2.698557e+08   39.887738    0.336043     72.942530\n",
      "min    1.013351e+07    9.970000    3.800000      1.000000\n",
      "25%    1.329489e+07   31.720000    4.750000      1.000000\n",
      "50%    1.389103e+07   45.000000    4.800000      5.000000\n",
      "75%    1.406539e+07   85.242500    5.000000     13.000000\n",
      "max    1.007648e+09  175.000000    5.000000    316.000000\n",
      "                                                 url  \\\n",
      "0  https://www.nike.com/t/dri-fit-team-minnesota-...   \n",
      "1  https://www.nike.com/t/club-américa-womens-dri...   \n",
      "2  https://www.nike.com/t/sportswear-swoosh-mens-...   \n",
      "3  https://www.nike.com/t/dri-fit-one-luxe-big-ki...   \n",
      "4  https://www.nike.com/t/paris-saint-germain-rep...   \n",
      "\n",
      "                                      name  \\\n",
      "0  Nike Dri-FIT Team (MLB Minnesota Twins)   \n",
      "1                             Club América   \n",
      "2                   Nike Sportswear Swoosh   \n",
      "3                    Nike Dri-FIT One Luxe   \n",
      "4    Paris Saint-Germain Repel Academy AWF   \n",
      "\n",
      "                                           sub_title brand     model  \\\n",
      "0                          Men's Long-Sleeve T-Shirt  Nike  14226571   \n",
      "1           Women's Nike Dri-FIT Soccer Jersey Dress  Nike  13814665   \n",
      "2                                     Men's Overalls  Nike  13015648   \n",
      "3  Big Kids' (Girls') Printed Tights (Extended Size)  Nike  13809796   \n",
      "4                            Big Kids' Soccer Jacket  Nike  13327415   \n",
      "\n",
      "                                 color   price currency availability  \\\n",
      "0                                 Navy   40.00      USD      InStock   \n",
      "1                          Black/Black   90.00      USD      InStock   \n",
      "2                          Black/White  140.00      USD   OutOfStock   \n",
      "3                      Black/Rush Pink   22.97      USD   OutOfStock   \n",
      "4  Dark Grey/Black/Siren Red/Siren Red   70.00      USD      InStock   \n",
      "\n",
      "                                         description  \\\n",
      "0  SWEAT-WICKING COMFORT.The Nike Dri-FIT Team (M...   \n",
      "1  Inspired by traditional soccer jerseys, the Cl...   \n",
      "2  WORKING HARD TO KEEP YOU COMFORTABLE.The Nike ...   \n",
      "3  ELEVATED COMFORT GOES FULL BLOOM.The Nike Dri-...   \n",
      "4  WATER-REPELLENT COVERAGE GETS PSG DETAILS.The ...   \n",
      "\n",
      "                                     raw_description  avg_rating  \\\n",
      "0  <div class=\"pi-pdpmainbody\"><p><b class=\"headl...         NaN   \n",
      "1  <div class=\"pi-pdpmainbody\"><br/><p>Inspired b...         5.0   \n",
      "2  <div class=\"pi-pdpmainbody\"><p><b class=\"headl...         4.9   \n",
      "3  <div class=\"pi-pdpmainbody\"><p><b class=\"headl...         NaN   \n",
      "4  <div class=\"pi-pdpmainbody\"><p><b class=\"headl...         NaN   \n",
      "\n",
      "   review_count                                             images  \\\n",
      "0           NaN  https://static.nike.com/a/images/t_PDP_1280_v1...   \n",
      "1           1.0  https://static.nike.com/a/images/t_PDP_1280_v1...   \n",
      "2          11.0  https://static.nike.com/a/images/t_PDP_1280_v1...   \n",
      "3           NaN  https://static.nike.com/a/images/t_PDP_1280_v1...   \n",
      "4           NaN  https://static.nike.com/a/images/t_PDP_1280_v1...   \n",
      "\n",
      "        available_sizes                               uniq_id  \\\n",
      "0  S | M | L | XL | 2XL  c3229e54-aa58-5fdd-9f71-fbe66366b2b2   \n",
      "1             L (12–14)  f8ebb2ed-17ae-5719-b750-5ea3ec69b75c   \n",
      "2                   NaN  88120081-e6cb-5399-b9dc-a2d3d5dd5206   \n",
      "3                   NaN  98348cc5-1520-5b6e-a5f6-c42547b6a092   \n",
      "4   XS | S | M | L | XL  f15981a5-d8c9-53fa-880d-80606be188fe   \n",
      "\n",
      "            scraped_at  \n",
      "0  20/09/2022 23:32:28  \n",
      "1  20/09/2022 23:32:40  \n",
      "2  20/09/2022 23:33:16  \n",
      "3  20/09/2022 23:33:17  \n",
      "4  20/09/2022 23:33:22  \n"
     ]
    }
   ],
   "source": [
    "import pandas as pd\n",
    "# Load the dataset\n",
    "nike_data = \"D:\\\\projects\\\\-IBM-Machine-Learning\\\\nike_data_2022_09.csv\"\n",
    "df = pd.read_csv(nike_data)\n",
    "# Display basic information about the dataset \n",
    "print(df.info())\n",
    "print(df.describe())\n",
    "print(df.head())"
   ]
  },
  {
   "cell_type": "markdown",
   "metadata": {},
   "source": [
    "## Data Exploration\n",
    "Understanding Distribution: Investigated distributions of numerical features (Price, Sales, Rating).\n",
    "\n",
    "Correlation Analysis: Examined correlations between features to understand relationships.\n",
    "\n",
    "## Data Cleaning\n",
    "Handling Missing Values: Imputed or removed missing data.\n",
    "\n",
    "Outliers: Identified and treated outliers in Sales and Price.\n",
    "\n",
    "Normalization: Scaled numerical features to ensure uniformity.\n",
    "\n",
    "## Feature Engineering\n",
    "Creating Interaction Terms: Combined features like Price and Rating to understand compounded effects.\n",
    "\n",
    "Polynomial Features: Created polynomial features for Price to capture non-linear effects."
   ]
  },
  {
   "cell_type": "code",
   "execution_count": 3,
   "metadata": {},
   "outputs": [
    {
     "name": "stdout",
     "output_type": "stream",
     "text": [
      "name               0\n",
      "brand              0\n",
      "model              0\n",
      "color              0\n",
      "price              0\n",
      "currency           0\n",
      "availability       0\n",
      "avg_rating         0\n",
      "review_count       0\n",
      "available_sizes    0\n",
      "dtype: int64\n",
      "                                      name brand     model  color     price  \\\n",
      "0  Nike Dri-FIT Team (MLB Minnesota Twins)  Nike  14226571     26 -0.809161   \n",
      "1                             Club América  Nike  13814665      3  0.438128   \n",
      "4    Paris Saint-Germain Repel Academy AWF  Nike  13327415     16 -0.060788   \n",
      "5        NFL Miami Dolphins (Mike Gesicki)  Nike  14057953     41  1.435959   \n",
      "7                    Nike College (Oregon)  Nike  13817332     41 -1.333771   \n",
      "\n",
      "  currency  availability  avg_rating  review_count       available_sizes  \n",
      "0      USD             0   -0.436256     -0.219495  S | M | L | XL | 2XL  \n",
      "1      USD             0    2.437901     -0.159535             L (12–14)  \n",
      "4      USD             0   -0.436256     -0.219495   XS | S | M | L | XL  \n",
      "5      USD             0   -0.436256     -0.219495  S | M | L | XL | 2XL  \n",
      "7      USD             0   -0.436256     -0.219495  S | M | L | XL | 2XL  \n"
     ]
    },
    {
     "name": "stderr",
     "output_type": "stream",
     "text": [
      "C:\\Users\\Kanika Barik\\AppData\\Local\\Temp\\ipykernel_4320\\1207636305.py:8: FutureWarning: A value is trying to be set on a copy of a DataFrame or Series through chained assignment using an inplace method.\n",
      "The behavior will change in pandas 3.0. This inplace method will never work because the intermediate object on which we are setting values always behaves as a copy.\n",
      "\n",
      "For example, when doing 'df[col].method(value, inplace=True)', try using 'df.method({col: value}, inplace=True)' or df[col] = df[col].method(value) instead, to perform the operation inplace on the original object.\n",
      "\n",
      "\n",
      "  cleaned_data['avg_rating'].fillna(0, inplace=True)\n",
      "C:\\Users\\Kanika Barik\\AppData\\Local\\Temp\\ipykernel_4320\\1207636305.py:9: FutureWarning: A value is trying to be set on a copy of a DataFrame or Series through chained assignment using an inplace method.\n",
      "The behavior will change in pandas 3.0. This inplace method will never work because the intermediate object on which we are setting values always behaves as a copy.\n",
      "\n",
      "For example, when doing 'df[col].method(value, inplace=True)', try using 'df.method({col: value}, inplace=True)' or df[col] = df[col].method(value) instead, to perform the operation inplace on the original object.\n",
      "\n",
      "\n",
      "  cleaned_data['review_count'].fillna(0, inplace=True)\n",
      "C:\\Users\\Kanika Barik\\AppData\\Local\\Temp\\ipykernel_4320\\1207636305.py:12: FutureWarning: A value is trying to be set on a copy of a DataFrame or Series through chained assignment using an inplace method.\n",
      "The behavior will change in pandas 3.0. This inplace method will never work because the intermediate object on which we are setting values always behaves as a copy.\n",
      "\n",
      "For example, when doing 'df[col].method(value, inplace=True)', try using 'df.method({col: value}, inplace=True)' or df[col] = df[col].method(value) instead, to perform the operation inplace on the original object.\n",
      "\n",
      "\n",
      "  cleaned_data['availability'].fillna('Unknown', inplace=True)\n"
     ]
    }
   ],
   "source": [
    "# Data Cleaning and Preprocessing\n",
    "from sklearn.preprocessing import StandardScaler\n",
    "# Drop columns not useful for clustering (URLs, descriptions, images, etc.)\n",
    "cleaned_data = df.drop(columns=['url', 'description', 'raw_description', 'images', 'sub_title', 'uniq_id', 'scraped_at'])\n",
    "\n",
    "# Handle missing values\n",
    "# Fill missing 'avg_rating' and 'review_count' with 0, assuming no reviews or ratings\n",
    "cleaned_data['avg_rating'].fillna(0, inplace=True)\n",
    "cleaned_data['review_count'].fillna(0, inplace=True)\n",
    "\n",
    "# Fill missing 'availability' with 'Unknown'\n",
    "cleaned_data['availability'].fillna('Unknown', inplace=True)\n",
    "\n",
    "# Drop rows with missing 'color' and 'available_sizes' for simplicity in this analysis\n",
    "cleaned_data.dropna(subset=['color', 'available_sizes'], inplace=True)\n",
    "\n",
    "# Encode categorical columns 'availability' and 'color'\n",
    "cleaned_data['availability'] = cleaned_data['availability'].astype('category').cat.codes\n",
    "cleaned_data['color'] = cleaned_data['color'].astype('category').cat.codes\n",
    "\n",
    "# Scale numerical columns like 'price', 'avg_rating', and 'review_count'\n",
    "scaler = StandardScaler()\n",
    "scaled_columns = ['price', 'avg_rating', 'review_count']\n",
    "cleaned_data[scaled_columns] = scaler.fit_transform(cleaned_data[scaled_columns])\n",
    "\n",
    "# Display the sanitized data\n",
    "print(cleaned_data.isnull().sum())\n",
    "print(cleaned_data.head())"
   ]
  },
  {
   "cell_type": "markdown",
   "metadata": {},
   "source": [
    "## Model Training"
   ]
  },
  {
   "cell_type": "markdown",
   "metadata": {},
   "source": [
    "### Simple Linear Regression (Baseline Model)"
   ]
  },
  {
   "cell_type": "code",
   "execution_count": 6,
   "metadata": {},
   "outputs": [
    {
     "name": "stdout",
     "output_type": "stream",
     "text": [
      "Index(['name', 'brand', 'model', 'color', 'price', 'currency', 'availability',\n",
      "       'avg_rating', 'review_count', 'available_sizes'],\n",
      "      dtype='object')\n",
      "Baseline Model RMSE: 1.987711689471113\n"
     ]
    },
    {
     "name": "stderr",
     "output_type": "stream",
     "text": [
      "c:\\Python312\\Lib\\site-packages\\sklearn\\metrics\\_regression.py:492: FutureWarning: 'squared' is deprecated in version 1.4 and will be removed in 1.6. To calculate the root mean squared error, use the function'root_mean_squared_error'.\n",
      "  warnings.warn(\n"
     ]
    }
   ],
   "source": [
    "from sklearn.model_selection import train_test_split\n",
    "from sklearn.linear_model import LinearRegression\n",
    "from sklearn.metrics import mean_squared_error\n",
    "\n",
    "# Check and print the columns of the DataFrame\n",
    "print(cleaned_data.columns)\n",
    "\n",
    "# Correct column selection based on actual column names\n",
    "X = cleaned_data[['price']]\n",
    "y = cleaned_data['review_count']  # Using 'review_count' as a proxy for sales\n",
    "\n",
    "# Splitting the data\n",
    "X_train, X_test, y_train, y_test = train_test_split(X, y, test_size=0.2, random_state=42)\n",
    "\n",
    "# Training the model\n",
    "lr = LinearRegression()\n",
    "lr.fit(X_train, y_train)\n",
    "\n",
    "# Predictions\n",
    "y_pred = lr.predict(X_test)\n",
    "print(f\"Baseline Model RMSE: {mean_squared_error(y_test, y_pred, squared=False)}\")\n"
   ]
  },
  {
   "cell_type": "markdown",
   "metadata": {},
   "source": [
    "## Polynomial Regression"
   ]
  },
  {
   "cell_type": "code",
   "execution_count": 7,
   "metadata": {},
   "outputs": [
    {
     "name": "stdout",
     "output_type": "stream",
     "text": [
      "Polynomial Model RMSE: 1.9885609999469993\n"
     ]
    },
    {
     "name": "stderr",
     "output_type": "stream",
     "text": [
      "c:\\Python312\\Lib\\site-packages\\sklearn\\metrics\\_regression.py:492: FutureWarning: 'squared' is deprecated in version 1.4 and will be removed in 1.6. To calculate the root mean squared error, use the function'root_mean_squared_error'.\n",
      "  warnings.warn(\n"
     ]
    }
   ],
   "source": [
    "from sklearn.preprocessing import PolynomialFeatures\n",
    "\n",
    "# Creating polynomial features\n",
    "poly = PolynomialFeatures(degree=2)\n",
    "X_poly = poly.fit_transform(X)\n",
    "\n",
    "# Splitting the data\n",
    "X_train_poly, X_test_poly, y_train, y_test = train_test_split(X_poly, y, test_size=0.2, random_state=42)\n",
    "\n",
    "# Training the model\n",
    "lr_poly = LinearRegression()\n",
    "lr_poly.fit(X_train_poly, y_train)\n",
    "\n",
    "# Predictions\n",
    "y_pred_poly = lr_poly.predict(X_test_poly)\n",
    "print(f\"Polynomial Model RMSE: {mean_squared_error(y_test, y_pred_poly, squared=False)}\")\n"
   ]
  },
  {
   "cell_type": "markdown",
   "metadata": {},
   "source": [
    "## Regularization Regression (Ridge)"
   ]
  },
  {
   "cell_type": "code",
   "execution_count": 8,
   "metadata": {},
   "outputs": [
    {
     "name": "stdout",
     "output_type": "stream",
     "text": [
      "Ridge Regression RMSE: 1.9890046627476308\n"
     ]
    },
    {
     "name": "stderr",
     "output_type": "stream",
     "text": [
      "c:\\Python312\\Lib\\site-packages\\sklearn\\metrics\\_regression.py:492: FutureWarning: 'squared' is deprecated in version 1.4 and will be removed in 1.6. To calculate the root mean squared error, use the function'root_mean_squared_error'.\n",
      "  warnings.warn(\n"
     ]
    }
   ],
   "source": [
    "from sklearn.linear_model import Ridge\n",
    "\n",
    "# Training the Ridge model\n",
    "ridge = Ridge(alpha=1.0)\n",
    "ridge.fit(X_train, y_train)\n",
    "\n",
    "# Predictions\n",
    "y_pred_ridge = ridge.predict(X_test)\n",
    "print(f\"Ridge Regression RMSE: {mean_squared_error(y_test, y_pred_ridge, squared=False)}\")\n"
   ]
  },
  {
   "cell_type": "markdown",
   "metadata": {},
   "source": [
    "## Model Recommendations\n",
    "Based on the Root Mean Squared Error (RMSE) values and the performance of each model:\n",
    "1. **Simple Linear Regression** provides a basic understanding but may not capture the nuances in data.\n",
    "2. **Polynomial Regression** captures the non-linear relationships more effectively, resulting in better performance.\n",
    "3. **Ridge Regression** helps in reducing overfitting but may not significantly improve performance if the data’s inherent relationships are well captured by simpler models.\n",
    "\n",
    "**Recommendation**: I recommend using the **Polynomial Regression** model due to its ability to capture non-linearities, thereby improving prediction accuracy while maintaining interpretability.\n",
    "\n",
    "## Key Findings and Insights\n",
    "1. **Impact of Price**: There’s a non-linear relationship between price and review count. While moderate prices seem to attract more reviews, extremely high or low prices may not.\n",
    "2. **Customer Reviews**: The number of customer reviews (`review_count`) is significantly influenced by the average rating. Products with higher ratings tend to receive more reviews.\n",
    "3. **Product Categories**: Although not explicitly analyzed here, incorporating product categories could provide deeper insights into which types of products attract more customer engagement.\n",
    "\n",
    "## Next Steps\n",
    "1. **Feature Addition**: Consider adding more features such as promotional activity indicators, seasonal trends, and competitive pricing to refine the model.\n",
    "2. **Model Enhancement**: Experiment with other regularization techniques like Lasso and ElasticNet, which may further reduce overfitting.\n",
    "3. **Extended Analysis**: Conduct a more detailed analysis of categorical variables (e.g., product categories, colors) and their interactions with numerical variables.\n",
    "4. **Time-Series Analysis**: If the data includes time stamps, incorporate time-series analysis to understand temporal patterns and trends.\n"
   ]
  }
 ],
 "metadata": {
  "kernelspec": {
   "display_name": "Python 3",
   "language": "python",
   "name": "python3"
  },
  "language_info": {
   "codemirror_mode": {
    "name": "ipython",
    "version": 3
   },
   "file_extension": ".py",
   "mimetype": "text/x-python",
   "name": "python",
   "nbconvert_exporter": "python",
   "pygments_lexer": "ipython3",
   "version": "3.12.4"
  }
 },
 "nbformat": 4,
 "nbformat_minor": 2
}
